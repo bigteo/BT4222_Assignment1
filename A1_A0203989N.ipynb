{
 "cells": [
  {
   "cell_type": "markdown",
   "id": "052c61d9",
   "metadata": {},
   "source": [
    "# BT4222 Assignment 1\n",
    "By Teo Zhi Feng"
   ]
  },
  {
   "cell_type": "markdown",
   "id": "d2f4c459",
   "metadata": {},
   "source": [
    "# 1 Data Exploration"
   ]
  },
  {
   "cell_type": "markdown",
   "id": "a7e48d27",
   "metadata": {},
   "source": [
    "### 1.1 Load datasets"
   ]
  },
  {
   "cell_type": "code",
   "execution_count": 1,
   "id": "c8dd53b4",
   "metadata": {},
   "outputs": [],
   "source": [
    "import pandas as pd\n",
    "from numpy import mean\n",
    "from collections import Counter"
   ]
  },
  {
   "cell_type": "code",
   "execution_count": 2,
   "id": "4b8adad7",
   "metadata": {
    "scrolled": true
   },
   "outputs": [
    {
     "data": {
      "text/html": [
       "<div>\n",
       "<style scoped>\n",
       "    .dataframe tbody tr th:only-of-type {\n",
       "        vertical-align: middle;\n",
       "    }\n",
       "\n",
       "    .dataframe tbody tr th {\n",
       "        vertical-align: top;\n",
       "    }\n",
       "\n",
       "    .dataframe thead th {\n",
       "        text-align: right;\n",
       "    }\n",
       "</style>\n",
       "<table border=\"1\" class=\"dataframe\">\n",
       "  <thead>\n",
       "    <tr style=\"text-align: right;\">\n",
       "      <th></th>\n",
       "      <th>index</th>\n",
       "      <th>age</th>\n",
       "      <th>race</th>\n",
       "      <th>sex</th>\n",
       "      <th>education</th>\n",
       "      <th>f1</th>\n",
       "      <th>f2</th>\n",
       "      <th>f3</th>\n",
       "      <th>f4</th>\n",
       "      <th>f5</th>\n",
       "      <th>f6</th>\n",
       "      <th>f7</th>\n",
       "      <th>f8</th>\n",
       "      <th>f9</th>\n",
       "      <th>f10</th>\n",
       "      <th>y</th>\n",
       "    </tr>\n",
       "  </thead>\n",
       "  <tbody>\n",
       "    <tr>\n",
       "      <th>0</th>\n",
       "      <td>1</td>\n",
       "      <td>26</td>\n",
       "      <td>White</td>\n",
       "      <td>Male</td>\n",
       "      <td>Some-college</td>\n",
       "      <td>a_2</td>\n",
       "      <td>b_4</td>\n",
       "      <td>c_0</td>\n",
       "      <td>d_39</td>\n",
       "      <td>e_4</td>\n",
       "      <td>53833</td>\n",
       "      <td>10</td>\n",
       "      <td>0</td>\n",
       "      <td>0</td>\n",
       "      <td>42</td>\n",
       "      <td>0</td>\n",
       "    </tr>\n",
       "    <tr>\n",
       "      <th>1</th>\n",
       "      <td>2</td>\n",
       "      <td>35</td>\n",
       "      <td>White</td>\n",
       "      <td>Male</td>\n",
       "      <td>Some-college</td>\n",
       "      <td>a_2</td>\n",
       "      <td>b_3</td>\n",
       "      <td>c_0</td>\n",
       "      <td>d_39</td>\n",
       "      <td>e_4</td>\n",
       "      <td>67728</td>\n",
       "      <td>10</td>\n",
       "      <td>0</td>\n",
       "      <td>2051</td>\n",
       "      <td>45</td>\n",
       "      <td>0</td>\n",
       "    </tr>\n",
       "    <tr>\n",
       "      <th>2</th>\n",
       "      <td>3</td>\n",
       "      <td>61</td>\n",
       "      <td>White</td>\n",
       "      <td>Male</td>\n",
       "      <td>HS-grad</td>\n",
       "      <td>a_2</td>\n",
       "      <td>b_12</td>\n",
       "      <td>c_0</td>\n",
       "      <td>d_39</td>\n",
       "      <td>e_6</td>\n",
       "      <td>268831</td>\n",
       "      <td>9</td>\n",
       "      <td>0</td>\n",
       "      <td>0</td>\n",
       "      <td>53</td>\n",
       "      <td>0</td>\n",
       "    </tr>\n",
       "  </tbody>\n",
       "</table>\n",
       "</div>"
      ],
      "text/plain": [
       "   index  age    race    sex      education   f1    f2   f3    f4   f5  \\\n",
       "0      1   26   White   Male   Some-college  a_2   b_4  c_0  d_39  e_4   \n",
       "1      2   35   White   Male   Some-college  a_2   b_3  c_0  d_39  e_4   \n",
       "2      3   61   White   Male        HS-grad  a_2  b_12  c_0  d_39  e_6   \n",
       "\n",
       "       f6  f7  f8    f9  f10  y  \n",
       "0   53833  10   0     0   42  0  \n",
       "1   67728  10   0  2051   45  0  \n",
       "2  268831   9   0     0   53  0  "
      ]
     },
     "execution_count": 2,
     "metadata": {},
     "output_type": "execute_result"
    }
   ],
   "source": [
    "df_train = pd.read_csv('/Users/BigTeo/Desktop/BT4222/assignment1/train.csv')\n",
    "df_train.head(3)"
   ]
  },
  {
   "cell_type": "code",
   "execution_count": 3,
   "id": "76daa9cd",
   "metadata": {},
   "outputs": [
    {
     "data": {
      "text/html": [
       "<div>\n",
       "<style scoped>\n",
       "    .dataframe tbody tr th:only-of-type {\n",
       "        vertical-align: middle;\n",
       "    }\n",
       "\n",
       "    .dataframe tbody tr th {\n",
       "        vertical-align: top;\n",
       "    }\n",
       "\n",
       "    .dataframe thead th {\n",
       "        text-align: right;\n",
       "    }\n",
       "</style>\n",
       "<table border=\"1\" class=\"dataframe\">\n",
       "  <thead>\n",
       "    <tr style=\"text-align: right;\">\n",
       "      <th></th>\n",
       "      <th>index</th>\n",
       "      <th>age</th>\n",
       "      <th>race</th>\n",
       "      <th>sex</th>\n",
       "      <th>education</th>\n",
       "      <th>f1</th>\n",
       "      <th>f2</th>\n",
       "      <th>f3</th>\n",
       "      <th>f4</th>\n",
       "      <th>f5</th>\n",
       "      <th>f6</th>\n",
       "      <th>f7</th>\n",
       "      <th>f8</th>\n",
       "      <th>f9</th>\n",
       "      <th>f10</th>\n",
       "    </tr>\n",
       "  </thead>\n",
       "  <tbody>\n",
       "    <tr>\n",
       "      <th>0</th>\n",
       "      <td>1</td>\n",
       "      <td>39</td>\n",
       "      <td>White</td>\n",
       "      <td>Male</td>\n",
       "      <td>HS-grad</td>\n",
       "      <td>a_2</td>\n",
       "      <td>b_3</td>\n",
       "      <td>c_0</td>\n",
       "      <td>d_39</td>\n",
       "      <td>e_4</td>\n",
       "      <td>366757</td>\n",
       "      <td>9</td>\n",
       "      <td>0</td>\n",
       "      <td>0</td>\n",
       "      <td>35</td>\n",
       "    </tr>\n",
       "    <tr>\n",
       "      <th>1</th>\n",
       "      <td>2</td>\n",
       "      <td>56</td>\n",
       "      <td>White</td>\n",
       "      <td>Male</td>\n",
       "      <td>Some-college</td>\n",
       "      <td>a_2</td>\n",
       "      <td>b_0</td>\n",
       "      <td>c_0</td>\n",
       "      <td>d_27</td>\n",
       "      <td>e_0</td>\n",
       "      <td>275943</td>\n",
       "      <td>10</td>\n",
       "      <td>0</td>\n",
       "      <td>0</td>\n",
       "      <td>40</td>\n",
       "    </tr>\n",
       "    <tr>\n",
       "      <th>2</th>\n",
       "      <td>3</td>\n",
       "      <td>17</td>\n",
       "      <td>White</td>\n",
       "      <td>Male</td>\n",
       "      <td>12th</td>\n",
       "      <td>a_4</td>\n",
       "      <td>b_0</td>\n",
       "      <td>c_3</td>\n",
       "      <td>d_39</td>\n",
       "      <td>e_0</td>\n",
       "      <td>103810</td>\n",
       "      <td>8</td>\n",
       "      <td>0</td>\n",
       "      <td>0</td>\n",
       "      <td>40</td>\n",
       "    </tr>\n",
       "  </tbody>\n",
       "</table>\n",
       "</div>"
      ],
      "text/plain": [
       "   index  age    race    sex      education   f1   f2   f3    f4   f5      f6  \\\n",
       "0      1   39   White   Male        HS-grad  a_2  b_3  c_0  d_39  e_4  366757   \n",
       "1      2   56   White   Male   Some-college  a_2  b_0  c_0  d_27  e_0  275943   \n",
       "2      3   17   White   Male           12th  a_4  b_0  c_3  d_39  e_0  103810   \n",
       "\n",
       "   f7  f8  f9  f10  \n",
       "0   9   0   0   35  \n",
       "1  10   0   0   40  \n",
       "2   8   0   0   40  "
      ]
     },
     "execution_count": 3,
     "metadata": {},
     "output_type": "execute_result"
    }
   ],
   "source": [
    "df_test = pd.read_csv('/Users/BigTeo/Desktop/BT4222/assignment1/test.csv')\n",
    "df_test.head(3)"
   ]
  },
  {
   "cell_type": "markdown",
   "id": "802a03a6",
   "metadata": {},
   "source": [
    "### 1.2 Check distribution of independent variable (y)\n",
    "##### Insight: Train dataset is imbalanced where the ratio of y=0 to y=1 is approximately 3:1."
   ]
  },
  {
   "cell_type": "code",
   "execution_count": 4,
   "id": "f0de5238",
   "metadata": {
    "scrolled": true
   },
   "outputs": [
    {
     "data": {
      "text/plain": [
       "Counter({0: 20194, 1: 6367})"
      ]
     },
     "execution_count": 4,
     "metadata": {},
     "output_type": "execute_result"
    }
   ],
   "source": [
    "Counter(df_train['y'])"
   ]
  },
  {
   "cell_type": "code",
   "execution_count": 5,
   "id": "96fba169",
   "metadata": {
    "scrolled": true
   },
   "outputs": [
    {
     "name": "stdout",
     "output_type": "stream",
     "text": [
      "Ratio of df_train['y']=0 to df_train['y']=1: 3.17\n"
     ]
    }
   ],
   "source": [
    "ratio = len(df_train[ df_train['y'] == 0]) / len(df_train[ df_train['y'] == 1])\n",
    "print('Ratio of df_train[\\'y\\']=0 to df_train[\\'y\\']=1: %.2f' % (ratio))"
   ]
  },
  {
   "cell_type": "markdown",
   "id": "dd5967d1",
   "metadata": {},
   "source": [
    "### 1.3 Check type of dependent variables\n",
    "##### Insight: As 'race', 'sex', 'education', 'f1', 'f2', 'f3', 'f4', 'f5' are categorical data, there is a need to convert  into dummy variables."
   ]
  },
  {
   "cell_type": "code",
   "execution_count": 6,
   "id": "0eb136a6",
   "metadata": {
    "scrolled": true
   },
   "outputs": [
    {
     "name": "stdout",
     "output_type": "stream",
     "text": [
      "<class 'pandas.core.frame.DataFrame'>\n",
      "RangeIndex: 26561 entries, 0 to 26560\n",
      "Data columns (total 16 columns):\n",
      " #   Column     Non-Null Count  Dtype \n",
      "---  ------     --------------  ----- \n",
      " 0   index      26561 non-null  int64 \n",
      " 1   age        26561 non-null  int64 \n",
      " 2   race       26561 non-null  object\n",
      " 3   sex        26561 non-null  object\n",
      " 4   education  26561 non-null  object\n",
      " 5   f1         26561 non-null  object\n",
      " 6   f2         26561 non-null  object\n",
      " 7   f3         26561 non-null  object\n",
      " 8   f4         26561 non-null  object\n",
      " 9   f5         26561 non-null  object\n",
      " 10  f6         26561 non-null  int64 \n",
      " 11  f7         26561 non-null  int64 \n",
      " 12  f8         26561 non-null  int64 \n",
      " 13  f9         26561 non-null  int64 \n",
      " 14  f10        26561 non-null  int64 \n",
      " 15  y          26561 non-null  int64 \n",
      "dtypes: int64(8), object(8)\n",
      "memory usage: 3.2+ MB\n"
     ]
    }
   ],
   "source": [
    "df_train.info()"
   ]
  },
  {
   "cell_type": "code",
   "execution_count": 7,
   "id": "a0fa7113",
   "metadata": {
    "scrolled": true
   },
   "outputs": [
    {
     "data": {
      "text/html": [
       "<div>\n",
       "<style scoped>\n",
       "    .dataframe tbody tr th:only-of-type {\n",
       "        vertical-align: middle;\n",
       "    }\n",
       "\n",
       "    .dataframe tbody tr th {\n",
       "        vertical-align: top;\n",
       "    }\n",
       "\n",
       "    .dataframe thead th {\n",
       "        text-align: right;\n",
       "    }\n",
       "</style>\n",
       "<table border=\"1\" class=\"dataframe\">\n",
       "  <thead>\n",
       "    <tr style=\"text-align: right;\">\n",
       "      <th></th>\n",
       "      <th>index</th>\n",
       "      <th>age</th>\n",
       "      <th>f6</th>\n",
       "      <th>f7</th>\n",
       "      <th>f8</th>\n",
       "      <th>f9</th>\n",
       "      <th>f10</th>\n",
       "      <th>y</th>\n",
       "    </tr>\n",
       "  </thead>\n",
       "  <tbody>\n",
       "    <tr>\n",
       "      <th>count</th>\n",
       "      <td>26561.000000</td>\n",
       "      <td>26561.000000</td>\n",
       "      <td>2.656100e+04</td>\n",
       "      <td>26561.000000</td>\n",
       "      <td>26561.000000</td>\n",
       "      <td>26561.000000</td>\n",
       "      <td>26561.000000</td>\n",
       "      <td>26561.000000</td>\n",
       "    </tr>\n",
       "    <tr>\n",
       "      <th>mean</th>\n",
       "      <td>13281.000000</td>\n",
       "      <td>38.610933</td>\n",
       "      <td>1.902328e+05</td>\n",
       "      <td>10.073981</td>\n",
       "      <td>1070.548662</td>\n",
       "      <td>87.575129</td>\n",
       "      <td>40.488573</td>\n",
       "      <td>0.239712</td>\n",
       "    </tr>\n",
       "    <tr>\n",
       "      <th>std</th>\n",
       "      <td>7667.644586</td>\n",
       "      <td>13.671748</td>\n",
       "      <td>1.056464e+05</td>\n",
       "      <td>2.573905</td>\n",
       "      <td>7320.365123</td>\n",
       "      <td>404.081775</td>\n",
       "      <td>12.358773</td>\n",
       "      <td>0.426916</td>\n",
       "    </tr>\n",
       "    <tr>\n",
       "      <th>min</th>\n",
       "      <td>1.000000</td>\n",
       "      <td>17.000000</td>\n",
       "      <td>1.228500e+04</td>\n",
       "      <td>1.000000</td>\n",
       "      <td>0.000000</td>\n",
       "      <td>0.000000</td>\n",
       "      <td>1.000000</td>\n",
       "      <td>0.000000</td>\n",
       "    </tr>\n",
       "    <tr>\n",
       "      <th>25%</th>\n",
       "      <td>6641.000000</td>\n",
       "      <td>28.000000</td>\n",
       "      <td>1.183990e+05</td>\n",
       "      <td>9.000000</td>\n",
       "      <td>0.000000</td>\n",
       "      <td>0.000000</td>\n",
       "      <td>40.000000</td>\n",
       "      <td>0.000000</td>\n",
       "    </tr>\n",
       "    <tr>\n",
       "      <th>50%</th>\n",
       "      <td>13281.000000</td>\n",
       "      <td>37.000000</td>\n",
       "      <td>1.783830e+05</td>\n",
       "      <td>10.000000</td>\n",
       "      <td>0.000000</td>\n",
       "      <td>0.000000</td>\n",
       "      <td>40.000000</td>\n",
       "      <td>0.000000</td>\n",
       "    </tr>\n",
       "    <tr>\n",
       "      <th>75%</th>\n",
       "      <td>19921.000000</td>\n",
       "      <td>48.000000</td>\n",
       "      <td>2.376700e+05</td>\n",
       "      <td>12.000000</td>\n",
       "      <td>0.000000</td>\n",
       "      <td>0.000000</td>\n",
       "      <td>45.000000</td>\n",
       "      <td>0.000000</td>\n",
       "    </tr>\n",
       "    <tr>\n",
       "      <th>max</th>\n",
       "      <td>26561.000000</td>\n",
       "      <td>90.000000</td>\n",
       "      <td>1.484705e+06</td>\n",
       "      <td>16.000000</td>\n",
       "      <td>99999.000000</td>\n",
       "      <td>4356.000000</td>\n",
       "      <td>99.000000</td>\n",
       "      <td>1.000000</td>\n",
       "    </tr>\n",
       "  </tbody>\n",
       "</table>\n",
       "</div>"
      ],
      "text/plain": [
       "              index           age            f6            f7            f8  \\\n",
       "count  26561.000000  26561.000000  2.656100e+04  26561.000000  26561.000000   \n",
       "mean   13281.000000     38.610933  1.902328e+05     10.073981   1070.548662   \n",
       "std     7667.644586     13.671748  1.056464e+05      2.573905   7320.365123   \n",
       "min        1.000000     17.000000  1.228500e+04      1.000000      0.000000   \n",
       "25%     6641.000000     28.000000  1.183990e+05      9.000000      0.000000   \n",
       "50%    13281.000000     37.000000  1.783830e+05     10.000000      0.000000   \n",
       "75%    19921.000000     48.000000  2.376700e+05     12.000000      0.000000   \n",
       "max    26561.000000     90.000000  1.484705e+06     16.000000  99999.000000   \n",
       "\n",
       "                 f9           f10             y  \n",
       "count  26561.000000  26561.000000  26561.000000  \n",
       "mean      87.575129     40.488573      0.239712  \n",
       "std      404.081775     12.358773      0.426916  \n",
       "min        0.000000      1.000000      0.000000  \n",
       "25%        0.000000     40.000000      0.000000  \n",
       "50%        0.000000     40.000000      0.000000  \n",
       "75%        0.000000     45.000000      0.000000  \n",
       "max     4356.000000     99.000000      1.000000  "
      ]
     },
     "execution_count": 7,
     "metadata": {},
     "output_type": "execute_result"
    }
   ],
   "source": [
    "df_train.describe()"
   ]
  },
  {
   "cell_type": "markdown",
   "id": "bd747d2e",
   "metadata": {},
   "source": [
    "# 2 Data Preparation"
   ]
  },
  {
   "cell_type": "markdown",
   "id": "b1d09d4e",
   "metadata": {},
   "source": [
    "### 2.1 Encode categorical variables in df_train"
   ]
  },
  {
   "cell_type": "code",
   "execution_count": 8,
   "id": "3e78b93c",
   "metadata": {
    "scrolled": false
   },
   "outputs": [
    {
     "data": {
      "text/html": [
       "<div>\n",
       "<style scoped>\n",
       "    .dataframe tbody tr th:only-of-type {\n",
       "        vertical-align: middle;\n",
       "    }\n",
       "\n",
       "    .dataframe tbody tr th {\n",
       "        vertical-align: top;\n",
       "    }\n",
       "\n",
       "    .dataframe thead th {\n",
       "        text-align: right;\n",
       "    }\n",
       "</style>\n",
       "<table border=\"1\" class=\"dataframe\">\n",
       "  <thead>\n",
       "    <tr style=\"text-align: right;\">\n",
       "      <th></th>\n",
       "      <th>index</th>\n",
       "      <th>age</th>\n",
       "      <th>f6</th>\n",
       "      <th>f7</th>\n",
       "      <th>f8</th>\n",
       "      <th>f9</th>\n",
       "      <th>f10</th>\n",
       "      <th>y</th>\n",
       "      <th>race_ Amer-Indian-Eskimo</th>\n",
       "      <th>race_ Asian-Pac-Islander</th>\n",
       "      <th>...</th>\n",
       "      <th>f4_d_9</th>\n",
       "      <th>f5_e_0</th>\n",
       "      <th>f5_e_1</th>\n",
       "      <th>f5_e_2</th>\n",
       "      <th>f5_e_3</th>\n",
       "      <th>f5_e_4</th>\n",
       "      <th>f5_e_5</th>\n",
       "      <th>f5_e_6</th>\n",
       "      <th>f5_e_7</th>\n",
       "      <th>f5_e_8</th>\n",
       "    </tr>\n",
       "  </thead>\n",
       "  <tbody>\n",
       "    <tr>\n",
       "      <th>0</th>\n",
       "      <td>1</td>\n",
       "      <td>26</td>\n",
       "      <td>53833</td>\n",
       "      <td>10</td>\n",
       "      <td>0</td>\n",
       "      <td>0</td>\n",
       "      <td>42</td>\n",
       "      <td>0</td>\n",
       "      <td>0</td>\n",
       "      <td>0</td>\n",
       "      <td>...</td>\n",
       "      <td>0</td>\n",
       "      <td>0</td>\n",
       "      <td>0</td>\n",
       "      <td>0</td>\n",
       "      <td>0</td>\n",
       "      <td>1</td>\n",
       "      <td>0</td>\n",
       "      <td>0</td>\n",
       "      <td>0</td>\n",
       "      <td>0</td>\n",
       "    </tr>\n",
       "    <tr>\n",
       "      <th>1</th>\n",
       "      <td>2</td>\n",
       "      <td>35</td>\n",
       "      <td>67728</td>\n",
       "      <td>10</td>\n",
       "      <td>0</td>\n",
       "      <td>2051</td>\n",
       "      <td>45</td>\n",
       "      <td>0</td>\n",
       "      <td>0</td>\n",
       "      <td>0</td>\n",
       "      <td>...</td>\n",
       "      <td>0</td>\n",
       "      <td>0</td>\n",
       "      <td>0</td>\n",
       "      <td>0</td>\n",
       "      <td>0</td>\n",
       "      <td>1</td>\n",
       "      <td>0</td>\n",
       "      <td>0</td>\n",
       "      <td>0</td>\n",
       "      <td>0</td>\n",
       "    </tr>\n",
       "    <tr>\n",
       "      <th>2</th>\n",
       "      <td>3</td>\n",
       "      <td>61</td>\n",
       "      <td>268831</td>\n",
       "      <td>9</td>\n",
       "      <td>0</td>\n",
       "      <td>0</td>\n",
       "      <td>53</td>\n",
       "      <td>0</td>\n",
       "      <td>0</td>\n",
       "      <td>0</td>\n",
       "      <td>...</td>\n",
       "      <td>0</td>\n",
       "      <td>0</td>\n",
       "      <td>0</td>\n",
       "      <td>0</td>\n",
       "      <td>0</td>\n",
       "      <td>0</td>\n",
       "      <td>0</td>\n",
       "      <td>1</td>\n",
       "      <td>0</td>\n",
       "      <td>0</td>\n",
       "    </tr>\n",
       "  </tbody>\n",
       "</table>\n",
       "<p>3 rows × 109 columns</p>\n",
       "</div>"
      ],
      "text/plain": [
       "   index  age      f6  f7  f8    f9  f10  y  race_ Amer-Indian-Eskimo  \\\n",
       "0      1   26   53833  10   0     0   42  0                         0   \n",
       "1      2   35   67728  10   0  2051   45  0                         0   \n",
       "2      3   61  268831   9   0     0   53  0                         0   \n",
       "\n",
       "   race_ Asian-Pac-Islander  ...  f4_d_9  f5_e_0  f5_e_1  f5_e_2  f5_e_3  \\\n",
       "0                         0  ...       0       0       0       0       0   \n",
       "1                         0  ...       0       0       0       0       0   \n",
       "2                         0  ...       0       0       0       0       0   \n",
       "\n",
       "   f5_e_4  f5_e_5  f5_e_6  f5_e_7  f5_e_8  \n",
       "0       1       0       0       0       0  \n",
       "1       1       0       0       0       0  \n",
       "2       0       0       1       0       0  \n",
       "\n",
       "[3 rows x 109 columns]"
      ]
     },
     "execution_count": 8,
     "metadata": {},
     "output_type": "execute_result"
    }
   ],
   "source": [
    "df_train = pd.get_dummies(df_train, columns = ['race', 'sex', 'education', 'f1', 'f2', 'f3', 'f4', 'f5'])\n",
    "df_train.head(3)"
   ]
  },
  {
   "cell_type": "markdown",
   "id": "845f42ce",
   "metadata": {},
   "source": [
    "### 2.2 Create X and y variables for df_train"
   ]
  },
  {
   "cell_type": "code",
   "execution_count": 9,
   "id": "5bf2ad9b",
   "metadata": {},
   "outputs": [],
   "source": [
    "X_train = df_train.drop('y', axis = 1)\n",
    "y_train = df_train['y']"
   ]
  },
  {
   "cell_type": "markdown",
   "id": "2a5aadf5",
   "metadata": {},
   "source": [
    "### 2.3 Encode categorical variables in df_test"
   ]
  },
  {
   "cell_type": "code",
   "execution_count": 10,
   "id": "c4866662",
   "metadata": {
    "scrolled": true
   },
   "outputs": [
    {
     "data": {
      "text/html": [
       "<div>\n",
       "<style scoped>\n",
       "    .dataframe tbody tr th:only-of-type {\n",
       "        vertical-align: middle;\n",
       "    }\n",
       "\n",
       "    .dataframe tbody tr th {\n",
       "        vertical-align: top;\n",
       "    }\n",
       "\n",
       "    .dataframe thead th {\n",
       "        text-align: right;\n",
       "    }\n",
       "</style>\n",
       "<table border=\"1\" class=\"dataframe\">\n",
       "  <thead>\n",
       "    <tr style=\"text-align: right;\">\n",
       "      <th></th>\n",
       "      <th>index</th>\n",
       "      <th>age</th>\n",
       "      <th>f6</th>\n",
       "      <th>f7</th>\n",
       "      <th>f8</th>\n",
       "      <th>f9</th>\n",
       "      <th>f10</th>\n",
       "      <th>race_ Amer-Indian-Eskimo</th>\n",
       "      <th>race_ Asian-Pac-Islander</th>\n",
       "      <th>race_ Black</th>\n",
       "      <th>...</th>\n",
       "      <th>f4_d_9</th>\n",
       "      <th>f5_e_0</th>\n",
       "      <th>f5_e_1</th>\n",
       "      <th>f5_e_2</th>\n",
       "      <th>f5_e_3</th>\n",
       "      <th>f5_e_4</th>\n",
       "      <th>f5_e_5</th>\n",
       "      <th>f5_e_6</th>\n",
       "      <th>f5_e_7</th>\n",
       "      <th>f5_e_8</th>\n",
       "    </tr>\n",
       "  </thead>\n",
       "  <tbody>\n",
       "    <tr>\n",
       "      <th>0</th>\n",
       "      <td>1</td>\n",
       "      <td>39</td>\n",
       "      <td>366757</td>\n",
       "      <td>9</td>\n",
       "      <td>0</td>\n",
       "      <td>0</td>\n",
       "      <td>35</td>\n",
       "      <td>0</td>\n",
       "      <td>0</td>\n",
       "      <td>0</td>\n",
       "      <td>...</td>\n",
       "      <td>0</td>\n",
       "      <td>0</td>\n",
       "      <td>0</td>\n",
       "      <td>0</td>\n",
       "      <td>0</td>\n",
       "      <td>1</td>\n",
       "      <td>0</td>\n",
       "      <td>0</td>\n",
       "      <td>0</td>\n",
       "      <td>0</td>\n",
       "    </tr>\n",
       "    <tr>\n",
       "      <th>1</th>\n",
       "      <td>2</td>\n",
       "      <td>56</td>\n",
       "      <td>275943</td>\n",
       "      <td>10</td>\n",
       "      <td>0</td>\n",
       "      <td>0</td>\n",
       "      <td>40</td>\n",
       "      <td>0</td>\n",
       "      <td>0</td>\n",
       "      <td>0</td>\n",
       "      <td>...</td>\n",
       "      <td>0</td>\n",
       "      <td>1</td>\n",
       "      <td>0</td>\n",
       "      <td>0</td>\n",
       "      <td>0</td>\n",
       "      <td>0</td>\n",
       "      <td>0</td>\n",
       "      <td>0</td>\n",
       "      <td>0</td>\n",
       "      <td>0</td>\n",
       "    </tr>\n",
       "    <tr>\n",
       "      <th>2</th>\n",
       "      <td>3</td>\n",
       "      <td>17</td>\n",
       "      <td>103810</td>\n",
       "      <td>8</td>\n",
       "      <td>0</td>\n",
       "      <td>0</td>\n",
       "      <td>40</td>\n",
       "      <td>0</td>\n",
       "      <td>0</td>\n",
       "      <td>0</td>\n",
       "      <td>...</td>\n",
       "      <td>0</td>\n",
       "      <td>1</td>\n",
       "      <td>0</td>\n",
       "      <td>0</td>\n",
       "      <td>0</td>\n",
       "      <td>0</td>\n",
       "      <td>0</td>\n",
       "      <td>0</td>\n",
       "      <td>0</td>\n",
       "      <td>0</td>\n",
       "    </tr>\n",
       "  </tbody>\n",
       "</table>\n",
       "<p>3 rows × 109 columns</p>\n",
       "</div>"
      ],
      "text/plain": [
       "   index  age      f6  f7  f8  f9  f10  race_ Amer-Indian-Eskimo  \\\n",
       "0      1   39  366757   9   0   0   35                         0   \n",
       "1      2   56  275943  10   0   0   40                         0   \n",
       "2      3   17  103810   8   0   0   40                         0   \n",
       "\n",
       "   race_ Asian-Pac-Islander  race_ Black  ...  f4_d_9  f5_e_0  f5_e_1  f5_e_2  \\\n",
       "0                         0            0  ...       0       0       0       0   \n",
       "1                         0            0  ...       0       1       0       0   \n",
       "2                         0            0  ...       0       1       0       0   \n",
       "\n",
       "   f5_e_3  f5_e_4  f5_e_5  f5_e_6  f5_e_7  f5_e_8  \n",
       "0       0       1       0       0       0       0  \n",
       "1       0       0       0       0       0       0  \n",
       "2       0       0       0       0       0       0  \n",
       "\n",
       "[3 rows x 109 columns]"
      ]
     },
     "execution_count": 10,
     "metadata": {},
     "output_type": "execute_result"
    }
   ],
   "source": [
    "X_test = pd.get_dummies(df_test, columns = ['race', 'sex', 'education', 'f1', 'f2', 'f3', 'f4', 'f5'])\n",
    "X_test.head(3)"
   ]
  },
  {
   "cell_type": "markdown",
   "id": "83d1e412",
   "metadata": {},
   "source": [
    "### 2.4 Drop additional columns in X_test\n",
    "Identify additional columns and remove."
   ]
  },
  {
   "cell_type": "code",
   "execution_count": 11,
   "id": "748f106e",
   "metadata": {},
   "outputs": [
    {
     "data": {
      "text/plain": [
       "Index(['f4_d_15'], dtype='object')"
      ]
     },
     "execution_count": 11,
     "metadata": {},
     "output_type": "execute_result"
    }
   ],
   "source": [
    "train_cols = X_train.columns\n",
    "test_cols = X_test.columns\n",
    "\n",
    "not_in_test_cols = test_cols.difference(train_cols)\n",
    "not_in_test_cols"
   ]
  },
  {
   "cell_type": "code",
   "execution_count": 12,
   "id": "a22b3efb",
   "metadata": {},
   "outputs": [],
   "source": [
    "X_test = X_test.drop(columns=[not_in_test_cols[0]], axis=1)"
   ]
  },
  {
   "cell_type": "code",
   "execution_count": 13,
   "id": "4e111c2c",
   "metadata": {},
   "outputs": [
    {
     "name": "stdout",
     "output_type": "stream",
     "text": [
      "(26561, 108)\n",
      "(6000, 108)\n"
     ]
    }
   ],
   "source": [
    "print(X_train.shape)\n",
    "print(X_test.shape)"
   ]
  },
  {
   "cell_type": "markdown",
   "id": "26e10067",
   "metadata": {},
   "source": [
    "# 3 Model Evaluation\n",
    "Since dataset is imbalanced, stratified k-fold cross-validation is used to preserve the class distribution in train and validation dataset. To prevent data leakage, a pipeline will be set up to perform data preparation and confuct grid search for hyperparameter tuning prior to running the model. "
   ]
  },
  {
   "cell_type": "code",
   "execution_count": 14,
   "id": "702c24fb",
   "metadata": {},
   "outputs": [],
   "source": [
    "from sklearn.model_selection import cross_validate, StratifiedKFold, GridSearchCV\n",
    "from sklearn.preprocessing import StandardScaler\n",
    "from sklearn.pipeline import Pipeline"
   ]
  },
  {
   "cell_type": "code",
   "execution_count": 15,
   "id": "0ada6f12",
   "metadata": {},
   "outputs": [],
   "source": [
    "from sklearn.linear_model import LogisticRegression\n",
    "from sklearn.svm import SVC\n",
    "from sklearn.gaussian_process.kernels import RBF\n",
    "from sklearn.ensemble import AdaBoostClassifier"
   ]
  },
  {
   "cell_type": "markdown",
   "id": "a7a19116",
   "metadata": {},
   "source": [
    "### 3.1 Setting up"
   ]
  },
  {
   "cell_type": "code",
   "execution_count": 16,
   "id": "292f6888",
   "metadata": {},
   "outputs": [],
   "source": [
    "import warnings\n",
    "warnings.filterwarnings('ignore')"
   ]
  },
  {
   "cell_type": "code",
   "execution_count": 17,
   "id": "6401f20b",
   "metadata": {},
   "outputs": [],
   "source": [
    "metrics = ['accuracy', 'f1_weighted', 'roc_auc']"
   ]
  },
  {
   "cell_type": "code",
   "execution_count": 18,
   "id": "ef4f11a0",
   "metadata": {},
   "outputs": [],
   "source": [
    "# define dataframe to store results\n",
    "results = pd.DataFrame(columns=['Model', 'Accuracy', 'F1', 'ROC AUC'])"
   ]
  },
  {
   "cell_type": "code",
   "execution_count": 19,
   "id": "95e9239e",
   "metadata": {},
   "outputs": [],
   "source": [
    "# define evaluation procedure\n",
    "kfold = StratifiedKFold(n_splits=3, random_state=1, shuffle=True)"
   ]
  },
  {
   "cell_type": "code",
   "execution_count": 20,
   "id": "4b59b666",
   "metadata": {
    "scrolled": true
   },
   "outputs": [],
   "source": [
    "def run_model(model, parameters):\n",
    "    # set up pipeline\n",
    "    pipeline = Pipeline(steps=[\n",
    "        ('scaler', StandardScaler()),\n",
    "        ('model', model)\n",
    "    ])\n",
    "    \n",
    "    # grid search\n",
    "    search = GridSearchCV(estimator=pipeline,\n",
    "                            param_grid=parameters,\n",
    "                            cv=kfold,\n",
    "                            scoring=metrics,\n",
    "                            refit='f1_weighted',\n",
    "                            return_train_score=True,\n",
    "                            verbose=3)\n",
    "    search.fit(X_train, y_train)\n",
    "\n",
    "    # store results in dataframe\n",
    "    global results\n",
    "    results = results.append({\n",
    "        'Model': model,\n",
    "        'Accuracy': search.cv_results_['mean_test_accuracy'].max(),\n",
    "        'F1': search.cv_results_['mean_test_f1_weighted'].max(),\n",
    "        'ROC AUC': search.cv_results_['mean_test_roc_auc'].max()}, \n",
    "        ignore_index=True)\n",
    "\n",
    "    return search"
   ]
  },
  {
   "cell_type": "markdown",
   "id": "80fc68e0",
   "metadata": {},
   "source": [
    "### 3.2 Logistic Regression"
   ]
  },
  {
   "cell_type": "code",
   "execution_count": 21,
   "id": "f8faae52",
   "metadata": {},
   "outputs": [],
   "source": [
    "params_logreg = {\n",
    "    'model__C': [0.001,0.01,0.1,1,10,100,1000]\n",
    "}"
   ]
  },
  {
   "cell_type": "code",
   "execution_count": 22,
   "id": "711f84a0",
   "metadata": {
    "scrolled": true
   },
   "outputs": [
    {
     "name": "stdout",
     "output_type": "stream",
     "text": [
      "Fitting 3 folds for each of 7 candidates, totalling 21 fits\n",
      "[CV 1/3] END model__C=0.001; accuracy: (train=0.844, test=0.841) f1_weighted: (train=0.834, test=0.829) roc_auc: (train=0.901, test=0.899) total time=   0.1s\n",
      "[CV 2/3] END model__C=0.001; accuracy: (train=0.843, test=0.844) f1_weighted: (train=0.833, test=0.833) roc_auc: (train=0.900, test=0.899) total time=   0.1s\n",
      "[CV 3/3] END model__C=0.001; accuracy: (train=0.843, test=0.841) f1_weighted: (train=0.832, test=0.831) roc_auc: (train=0.901, test=0.896) total time=   0.1s\n",
      "[CV 1/3] END model__C=0.01; accuracy: (train=0.852, test=0.850) f1_weighted: (train=0.847, test=0.842) roc_auc: (train=0.908, test=0.906) total time=   0.1s\n",
      "[CV 2/3] END model__C=0.01; accuracy: (train=0.852, test=0.853) f1_weighted: (train=0.846, test=0.847) roc_auc: (train=0.908, test=0.906) total time=   0.1s\n",
      "[CV 3/3] END model__C=0.01; accuracy: (train=0.853, test=0.846) f1_weighted: (train=0.847, test=0.841) roc_auc: (train=0.909, test=0.904) total time=   0.1s\n",
      "[CV 1/3] END model__C=0.1; accuracy: (train=0.854, test=0.851) f1_weighted: (train=0.849, test=0.845) roc_auc: (train=0.910, test=0.907) total time=   0.2s\n",
      "[CV 2/3] END model__C=0.1; accuracy: (train=0.853, test=0.854) f1_weighted: (train=0.848, test=0.849) roc_auc: (train=0.909, test=0.907) total time=   0.2s\n",
      "[CV 3/3] END model__C=0.1; accuracy: (train=0.856, test=0.847) f1_weighted: (train=0.851, test=0.843) roc_auc: (train=0.911, test=0.905) total time=   0.2s\n",
      "[CV 1/3] END model__C=1; accuracy: (train=0.854, test=0.851) f1_weighted: (train=0.849, test=0.845) roc_auc: (train=0.910, test=0.907) total time=   0.2s\n",
      "[CV 2/3] END model__C=1; accuracy: (train=0.853, test=0.855) f1_weighted: (train=0.848, test=0.850) roc_auc: (train=0.909, test=0.907) total time=   0.2s\n",
      "[CV 3/3] END model__C=1; accuracy: (train=0.856, test=0.848) f1_weighted: (train=0.851, test=0.843) roc_auc: (train=0.912, test=0.905) total time=   0.2s\n",
      "[CV 1/3] END model__C=10; accuracy: (train=0.854, test=0.851) f1_weighted: (train=0.849, test=0.845) roc_auc: (train=0.910, test=0.907) total time=   0.2s\n",
      "[CV 2/3] END model__C=10; accuracy: (train=0.853, test=0.855) f1_weighted: (train=0.848, test=0.849) roc_auc: (train=0.909, test=0.907) total time=   0.2s\n",
      "[CV 3/3] END model__C=10; accuracy: (train=0.856, test=0.848) f1_weighted: (train=0.851, test=0.843) roc_auc: (train=0.912, test=0.904) total time=   0.2s\n",
      "[CV 1/3] END model__C=100; accuracy: (train=0.854, test=0.851) f1_weighted: (train=0.849, test=0.845) roc_auc: (train=0.910, test=0.907) total time=   0.2s\n",
      "[CV 2/3] END model__C=100; accuracy: (train=0.853, test=0.855) f1_weighted: (train=0.848, test=0.849) roc_auc: (train=0.909, test=0.906) total time=   0.2s\n",
      "[CV 3/3] END model__C=100; accuracy: (train=0.856, test=0.848) f1_weighted: (train=0.851, test=0.843) roc_auc: (train=0.912, test=0.904) total time=   0.2s\n",
      "[CV 1/3] END model__C=1000; accuracy: (train=0.854, test=0.851) f1_weighted: (train=0.849, test=0.845) roc_auc: (train=0.910, test=0.907) total time=   0.2s\n",
      "[CV 2/3] END model__C=1000; accuracy: (train=0.853, test=0.855) f1_weighted: (train=0.848, test=0.849) roc_auc: (train=0.909, test=0.906) total time=   0.3s\n",
      "[CV 3/3] END model__C=1000; accuracy: (train=0.856, test=0.848) f1_weighted: (train=0.851, test=0.843) roc_auc: (train=0.912, test=0.904) total time=   0.2s\n"
     ]
    }
   ],
   "source": [
    "model_logreg = run_model(LogisticRegression(), params_logreg)"
   ]
  },
  {
   "cell_type": "code",
   "execution_count": 23,
   "id": "d36fd6db",
   "metadata": {
    "scrolled": true
   },
   "outputs": [
    {
     "name": "stdout",
     "output_type": "stream",
     "text": [
      "LOGISTIC REGRESSION\n",
      "Best parameter:  {'model__C': 1}\n",
      "Best F1 score:  0.8459422262339197\n",
      "-----------------------------------------------------------------------------\n",
      "                  Model  Accuracy        F1   ROC AUC\n",
      "0  LogisticRegression()  0.851286  0.845942  0.906375\n"
     ]
    }
   ],
   "source": [
    "print('LOGISTIC REGRESSION')\n",
    "print('Best parameter: ', model_logreg.best_params_)\n",
    "print('Best F1 score: ', model_logreg.best_score_)\n",
    "print('-----------------------------------------------------------------------------')\n",
    "print(results)"
   ]
  },
  {
   "cell_type": "markdown",
   "id": "f669b98b",
   "metadata": {},
   "source": [
    "### 3.3 Adaboost"
   ]
  },
  {
   "cell_type": "code",
   "execution_count": 24,
   "id": "c9a064a6",
   "metadata": {},
   "outputs": [],
   "source": [
    "params_adaboost = {\n",
    "    'model__n_estimators': [10, 50, 100, 500],\n",
    "    'model__learning_rate': [0.0001, 0.001, 0.01, 0.1, 1.0]\n",
    "}"
   ]
  },
  {
   "cell_type": "code",
   "execution_count": 25,
   "id": "b4ba2c9c",
   "metadata": {
    "scrolled": true
   },
   "outputs": [
    {
     "name": "stdout",
     "output_type": "stream",
     "text": [
      "Fitting 3 folds for each of 20 candidates, totalling 60 fits\n",
      "[CV 1/3] END model__learning_rate=0.0001, model__n_estimators=10; accuracy: (train=0.760, test=0.760) f1_weighted: (train=0.657, test=0.657) roc_auc: (train=0.760, test=0.759) total time=   0.3s\n",
      "[CV 2/3] END model__learning_rate=0.0001, model__n_estimators=10; accuracy: (train=0.760, test=0.760) f1_weighted: (train=0.657, test=0.657) roc_auc: (train=0.758, test=0.763) total time=   0.3s\n",
      "[CV 3/3] END model__learning_rate=0.0001, model__n_estimators=10; accuracy: (train=0.760, test=0.760) f1_weighted: (train=0.657, test=0.657) roc_auc: (train=0.761, test=0.757) total time=   0.3s\n",
      "[CV 1/3] END model__learning_rate=0.0001, model__n_estimators=50; accuracy: (train=0.760, test=0.760) f1_weighted: (train=0.657, test=0.657) roc_auc: (train=0.760, test=0.759) total time=   1.1s\n",
      "[CV 2/3] END model__learning_rate=0.0001, model__n_estimators=50; accuracy: (train=0.760, test=0.760) f1_weighted: (train=0.657, test=0.657) roc_auc: (train=0.758, test=0.763) total time=   1.1s\n",
      "[CV 3/3] END model__learning_rate=0.0001, model__n_estimators=50; accuracy: (train=0.760, test=0.760) f1_weighted: (train=0.657, test=0.657) roc_auc: (train=0.761, test=0.757) total time=   1.1s\n",
      "[CV 1/3] END model__learning_rate=0.0001, model__n_estimators=100; accuracy: (train=0.760, test=0.760) f1_weighted: (train=0.657, test=0.657) roc_auc: (train=0.760, test=0.759) total time=   2.2s\n",
      "[CV 2/3] END model__learning_rate=0.0001, model__n_estimators=100; accuracy: (train=0.760, test=0.760) f1_weighted: (train=0.657, test=0.657) roc_auc: (train=0.758, test=0.763) total time=   2.1s\n",
      "[CV 3/3] END model__learning_rate=0.0001, model__n_estimators=100; accuracy: (train=0.760, test=0.760) f1_weighted: (train=0.657, test=0.657) roc_auc: (train=0.761, test=0.757) total time=   2.1s\n",
      "[CV 1/3] END model__learning_rate=0.0001, model__n_estimators=500; accuracy: (train=0.760, test=0.760) f1_weighted: (train=0.657, test=0.657) roc_auc: (train=0.760, test=0.759) total time=  10.1s\n",
      "[CV 2/3] END model__learning_rate=0.0001, model__n_estimators=500; accuracy: (train=0.760, test=0.760) f1_weighted: (train=0.657, test=0.657) roc_auc: (train=0.758, test=0.763) total time=  10.1s\n",
      "[CV 3/3] END model__learning_rate=0.0001, model__n_estimators=500; accuracy: (train=0.760, test=0.760) f1_weighted: (train=0.657, test=0.657) roc_auc: (train=0.761, test=0.757) total time=  10.4s\n",
      "[CV 1/3] END model__learning_rate=0.001, model__n_estimators=10; accuracy: (train=0.760, test=0.760) f1_weighted: (train=0.657, test=0.657) roc_auc: (train=0.760, test=0.759) total time=   0.3s\n",
      "[CV 2/3] END model__learning_rate=0.001, model__n_estimators=10; accuracy: (train=0.760, test=0.760) f1_weighted: (train=0.657, test=0.657) roc_auc: (train=0.758, test=0.763) total time=   0.3s\n",
      "[CV 3/3] END model__learning_rate=0.001, model__n_estimators=10; accuracy: (train=0.760, test=0.760) f1_weighted: (train=0.657, test=0.657) roc_auc: (train=0.761, test=0.757) total time=   0.2s\n",
      "[CV 1/3] END model__learning_rate=0.001, model__n_estimators=50; accuracy: (train=0.760, test=0.760) f1_weighted: (train=0.657, test=0.657) roc_auc: (train=0.760, test=0.759) total time=   1.1s\n",
      "[CV 2/3] END model__learning_rate=0.001, model__n_estimators=50; accuracy: (train=0.760, test=0.760) f1_weighted: (train=0.657, test=0.657) roc_auc: (train=0.758, test=0.763) total time=   1.1s\n",
      "[CV 3/3] END model__learning_rate=0.001, model__n_estimators=50; accuracy: (train=0.760, test=0.760) f1_weighted: (train=0.657, test=0.657) roc_auc: (train=0.761, test=0.757) total time=   1.0s\n",
      "[CV 1/3] END model__learning_rate=0.001, model__n_estimators=100; accuracy: (train=0.760, test=0.760) f1_weighted: (train=0.657, test=0.657) roc_auc: (train=0.760, test=0.759) total time=   2.0s\n",
      "[CV 2/3] END model__learning_rate=0.001, model__n_estimators=100; accuracy: (train=0.760, test=0.760) f1_weighted: (train=0.657, test=0.657) roc_auc: (train=0.758, test=0.763) total time=   2.1s\n",
      "[CV 3/3] END model__learning_rate=0.001, model__n_estimators=100; accuracy: (train=0.760, test=0.760) f1_weighted: (train=0.657, test=0.657) roc_auc: (train=0.761, test=0.757) total time=   2.1s\n",
      "[CV 1/3] END model__learning_rate=0.001, model__n_estimators=500; accuracy: (train=0.798, test=0.795) f1_weighted: (train=0.736, test=0.731) roc_auc: (train=0.851, test=0.848) total time=  10.2s\n",
      "[CV 2/3] END model__learning_rate=0.001, model__n_estimators=500; accuracy: (train=0.795, test=0.800) f1_weighted: (train=0.731, test=0.741) roc_auc: (train=0.848, test=0.854) total time=  10.2s\n",
      "[CV 3/3] END model__learning_rate=0.001, model__n_estimators=500; accuracy: (train=0.798, test=0.795) f1_weighted: (train=0.736, test=0.732) roc_auc: (train=0.851, test=0.848) total time=  10.2s\n",
      "[CV 1/3] END model__learning_rate=0.01, model__n_estimators=10; accuracy: (train=0.760, test=0.760) f1_weighted: (train=0.657, test=0.657) roc_auc: (train=0.760, test=0.759) total time=   0.3s\n",
      "[CV 2/3] END model__learning_rate=0.01, model__n_estimators=10; accuracy: (train=0.760, test=0.760) f1_weighted: (train=0.657, test=0.657) roc_auc: (train=0.758, test=0.763) total time=   0.3s\n",
      "[CV 3/3] END model__learning_rate=0.01, model__n_estimators=10; accuracy: (train=0.760, test=0.760) f1_weighted: (train=0.657, test=0.657) roc_auc: (train=0.761, test=0.757) total time=   0.3s\n",
      "[CV 1/3] END model__learning_rate=0.01, model__n_estimators=50; accuracy: (train=0.798, test=0.795) f1_weighted: (train=0.736, test=0.731) roc_auc: (train=0.851, test=0.848) total time=   1.1s\n",
      "[CV 2/3] END model__learning_rate=0.01, model__n_estimators=50; accuracy: (train=0.795, test=0.800) f1_weighted: (train=0.731, test=0.741) roc_auc: (train=0.848, test=0.854) total time=   1.1s\n",
      "[CV 3/3] END model__learning_rate=0.01, model__n_estimators=50; accuracy: (train=0.798, test=0.795) f1_weighted: (train=0.736, test=0.732) roc_auc: (train=0.851, test=0.848) total time=   1.1s\n",
      "[CV 1/3] END model__learning_rate=0.01, model__n_estimators=100; accuracy: (train=0.798, test=0.795) f1_weighted: (train=0.736, test=0.731) roc_auc: (train=0.851, test=0.848) total time=   2.2s\n",
      "[CV 2/3] END model__learning_rate=0.01, model__n_estimators=100; accuracy: (train=0.795, test=0.800) f1_weighted: (train=0.731, test=0.741) roc_auc: (train=0.862, test=0.866) total time=   2.1s\n",
      "[CV 3/3] END model__learning_rate=0.01, model__n_estimators=100; accuracy: (train=0.798, test=0.795) f1_weighted: (train=0.736, test=0.732) roc_auc: (train=0.863, test=0.859) total time=   2.0s\n",
      "[CV 1/3] END model__learning_rate=0.01, model__n_estimators=500; accuracy: (train=0.847, test=0.847) f1_weighted: (train=0.832, test=0.831) roc_auc: (train=0.902, test=0.901) total time=  10.3s\n",
      "[CV 2/3] END model__learning_rate=0.01, model__n_estimators=500; accuracy: (train=0.846, test=0.850) f1_weighted: (train=0.831, test=0.836) roc_auc: (train=0.901, test=0.903) total time=  10.1s\n",
      "[CV 3/3] END model__learning_rate=0.01, model__n_estimators=500; accuracy: (train=0.848, test=0.844) f1_weighted: (train=0.833, test=0.829) roc_auc: (train=0.902, test=0.897) total time=  10.0s\n",
      "[CV 1/3] END model__learning_rate=0.1, model__n_estimators=10; accuracy: (train=0.798, test=0.795) f1_weighted: (train=0.736, test=0.731) roc_auc: (train=0.851, test=0.848) total time=   0.3s\n",
      "[CV 2/3] END model__learning_rate=0.1, model__n_estimators=10; accuracy: (train=0.795, test=0.800) f1_weighted: (train=0.731, test=0.741) roc_auc: (train=0.848, test=0.854) total time=   0.2s\n",
      "[CV 3/3] END model__learning_rate=0.1, model__n_estimators=10; accuracy: (train=0.798, test=0.795) f1_weighted: (train=0.736, test=0.732) roc_auc: (train=0.851, test=0.848) total time=   0.3s\n",
      "[CV 1/3] END model__learning_rate=0.1, model__n_estimators=50; accuracy: (train=0.848, test=0.848) f1_weighted: (train=0.834, test=0.832) roc_auc: (train=0.902, test=0.901) total time=   1.1s\n",
      "[CV 2/3] END model__learning_rate=0.1, model__n_estimators=50; accuracy: (train=0.848, test=0.851) f1_weighted: (train=0.833, test=0.836) roc_auc: (train=0.901, test=0.904) total time=   1.0s\n",
      "[CV 3/3] END model__learning_rate=0.1, model__n_estimators=50; accuracy: (train=0.849, test=0.844) f1_weighted: (train=0.834, test=0.830) roc_auc: (train=0.902, test=0.898) total time=   1.0s\n"
     ]
    },
    {
     "name": "stdout",
     "output_type": "stream",
     "text": [
      "[CV 1/3] END model__learning_rate=0.1, model__n_estimators=100; accuracy: (train=0.854, test=0.855) f1_weighted: (train=0.843, test=0.843) roc_auc: (train=0.909, test=0.908) total time=   2.1s\n",
      "[CV 2/3] END model__learning_rate=0.1, model__n_estimators=100; accuracy: (train=0.855, test=0.857) f1_weighted: (train=0.844, test=0.846) roc_auc: (train=0.908, test=0.909) total time=   2.1s\n",
      "[CV 3/3] END model__learning_rate=0.1, model__n_estimators=100; accuracy: (train=0.857, test=0.853) f1_weighted: (train=0.845, test=0.843) roc_auc: (train=0.910, test=0.906) total time=   2.1s\n",
      "[CV 1/3] END model__learning_rate=0.1, model__n_estimators=500; accuracy: (train=0.862, test=0.861) f1_weighted: (train=0.856, test=0.852) roc_auc: (train=0.920, test=0.917) total time=  10.3s\n",
      "[CV 2/3] END model__learning_rate=0.1, model__n_estimators=500; accuracy: (train=0.861, test=0.862) f1_weighted: (train=0.854, test=0.855) roc_auc: (train=0.919, test=0.918) total time=   9.9s\n",
      "[CV 3/3] END model__learning_rate=0.1, model__n_estimators=500; accuracy: (train=0.864, test=0.860) f1_weighted: (train=0.857, test=0.855) roc_auc: (train=0.920, test=0.917) total time=  10.1s\n",
      "[CV 1/3] END model__learning_rate=1.0, model__n_estimators=10; accuracy: (train=0.853, test=0.855) f1_weighted: (train=0.844, test=0.845) roc_auc: (train=0.902, test=0.901) total time=   0.3s\n",
      "[CV 2/3] END model__learning_rate=1.0, model__n_estimators=10; accuracy: (train=0.854, test=0.853) f1_weighted: (train=0.845, test=0.844) roc_auc: (train=0.900, test=0.903) total time=   0.2s\n",
      "[CV 3/3] END model__learning_rate=1.0, model__n_estimators=10; accuracy: (train=0.854, test=0.852) f1_weighted: (train=0.845, test=0.844) roc_auc: (train=0.903, test=0.898) total time=   0.3s\n",
      "[CV 1/3] END model__learning_rate=1.0, model__n_estimators=50; accuracy: (train=0.862, test=0.863) f1_weighted: (train=0.857, test=0.856) roc_auc: (train=0.918, test=0.915) total time=   1.2s\n",
      "[CV 2/3] END model__learning_rate=1.0, model__n_estimators=50; accuracy: (train=0.863, test=0.861) f1_weighted: (train=0.857, test=0.856) roc_auc: (train=0.918, test=0.916) total time=   1.0s\n",
      "[CV 3/3] END model__learning_rate=1.0, model__n_estimators=50; accuracy: (train=0.862, test=0.858) f1_weighted: (train=0.857, test=0.854) roc_auc: (train=0.919, test=0.914) total time=   1.1s\n",
      "[CV 1/3] END model__learning_rate=1.0, model__n_estimators=100; accuracy: (train=0.866, test=0.865) f1_weighted: (train=0.862, test=0.859) roc_auc: (train=0.924, test=0.920) total time=   2.0s\n",
      "[CV 2/3] END model__learning_rate=1.0, model__n_estimators=100; accuracy: (train=0.867, test=0.864) f1_weighted: (train=0.862, test=0.860) roc_auc: (train=0.924, test=0.920) total time=   2.1s\n",
      "[CV 3/3] END model__learning_rate=1.0, model__n_estimators=100; accuracy: (train=0.868, test=0.864) f1_weighted: (train=0.863, test=0.859) roc_auc: (train=0.924, test=0.920) total time=   2.1s\n",
      "[CV 1/3] END model__learning_rate=1.0, model__n_estimators=500; accuracy: (train=0.876, test=0.870) f1_weighted: (train=0.872, test=0.865) roc_auc: (train=0.935, test=0.925) total time=  10.3s\n",
      "[CV 2/3] END model__learning_rate=1.0, model__n_estimators=500; accuracy: (train=0.873, test=0.870) f1_weighted: (train=0.869, test=0.866) roc_auc: (train=0.933, test=0.923) total time=  10.3s\n",
      "[CV 3/3] END model__learning_rate=1.0, model__n_estimators=500; accuracy: (train=0.876, test=0.869) f1_weighted: (train=0.871, test=0.865) roc_auc: (train=0.935, test=0.925) total time=  10.3s\n"
     ]
    }
   ],
   "source": [
    "model_adaboost = run_model(AdaBoostClassifier(), params_adaboost)"
   ]
  },
  {
   "cell_type": "code",
   "execution_count": 26,
   "id": "efd8c0d2",
   "metadata": {},
   "outputs": [
    {
     "name": "stdout",
     "output_type": "stream",
     "text": [
      "ADABOOST\n",
      "Best parameter:  {'model__learning_rate': 1.0, 'model__n_estimators': 500}\n",
      "Best F1 score:  0.8651486632321271\n",
      "-----------------------------------------------------------------------------\n",
      "                  Model  Accuracy        F1   ROC AUC\n",
      "0  LogisticRegression()  0.851286  0.845942  0.906375\n",
      "1  AdaBoostClassifier()  0.869433  0.865149  0.924444\n"
     ]
    }
   ],
   "source": [
    "print('ADABOOST')\n",
    "print('Best parameter: ', model_adaboost.best_params_)\n",
    "print('Best F1 score: ', model_adaboost.best_score_)\n",
    "print('-----------------------------------------------------------------------------')\n",
    "print(results)"
   ]
  },
  {
   "cell_type": "markdown",
   "id": "1a0d551f",
   "metadata": {},
   "source": [
    "### 3.4 Support Vector Machine (SVM)\n",
    "Given the large number of variables, gridsearch algorithm will not be run on SVM."
   ]
  },
  {
   "cell_type": "code",
   "execution_count": 27,
   "id": "85ab54b0",
   "metadata": {},
   "outputs": [],
   "source": [
    "from sklearn.model_selection import cross_val_score"
   ]
  },
  {
   "cell_type": "code",
   "execution_count": 28,
   "id": "dd532040",
   "metadata": {},
   "outputs": [],
   "source": [
    "X_train = StandardScaler().fit_transform(X_train)"
   ]
  },
  {
   "cell_type": "code",
   "execution_count": 29,
   "id": "95490f61",
   "metadata": {},
   "outputs": [],
   "source": [
    "linear_svc = SVC(kernel=\"linear\", C=1, gamma=0.1)\n",
    "rbf_svc = SVC(kernel='rbf', C=1, gamma=0.1)\n",
    "poly_svc = SVC(kernel='poly', C=1, gamma=0.1)\n",
    "sigmoid_svc = SVC(kernel='sigmoid', C=1, gamma=0.1)\n",
    "\n",
    "all_svm = [linear_svc, rbf_svc, poly_svc, sigmoid_svc]"
   ]
  },
  {
   "cell_type": "code",
   "execution_count": 30,
   "id": "31449794",
   "metadata": {},
   "outputs": [
    {
     "name": "stdout",
     "output_type": "stream",
     "text": [
      "SVC(C=1, gamma=0.1, kernel='linear')\n",
      "F1 score:  0.9038970069618338\n",
      "-----------------------------------------------------------------------------\n",
      "                                  Model  Accuracy        F1   ROC AUC\n",
      "0                  LogisticRegression()  0.851286  0.845942  0.906375\n",
      "1                  AdaBoostClassifier()  0.869433  0.865149  0.924444\n",
      "2  SVC(C=1, gamma=0.1, kernel='linear')  0.850759  0.844116  0.903897\n",
      "\n",
      "SVC(C=1, gamma=0.1)\n",
      "F1 score:  0.8199077396945736\n",
      "-----------------------------------------------------------------------------\n",
      "                                  Model  Accuracy        F1   ROC AUC\n",
      "0                  LogisticRegression()  0.851286  0.845942  0.906375\n",
      "1                  AdaBoostClassifier()  0.869433  0.865149  0.924444\n",
      "2  SVC(C=1, gamma=0.1, kernel='linear')  0.850759  0.844116  0.903897\n",
      "3                   SVC(C=1, gamma=0.1)  0.824291  0.809875  0.819908\n",
      "\n",
      "SVC(C=1, gamma=0.1, kernel='poly')\n",
      "F1 score:  0.8331683895424024\n",
      "-----------------------------------------------------------------------------\n",
      "                                  Model  Accuracy        F1   ROC AUC\n",
      "0                  LogisticRegression()  0.851286  0.845942  0.906375\n",
      "1                  AdaBoostClassifier()  0.869433  0.865149  0.924444\n",
      "2  SVC(C=1, gamma=0.1, kernel='linear')  0.850759  0.844116  0.903897\n",
      "3                   SVC(C=1, gamma=0.1)  0.824291  0.809875  0.819908\n",
      "4    SVC(C=1, gamma=0.1, kernel='poly')  0.811490  0.810499  0.833168\n",
      "\n",
      "SVC(C=1, gamma=0.1, kernel='sigmoid')\n",
      "F1 score:  0.7533772701425238\n",
      "-----------------------------------------------------------------------------\n",
      "                                   Model  Accuracy        F1   ROC AUC\n",
      "0                   LogisticRegression()  0.851286  0.845942  0.906375\n",
      "1                   AdaBoostClassifier()  0.869433  0.865149  0.924444\n",
      "2   SVC(C=1, gamma=0.1, kernel='linear')  0.850759  0.844116  0.903897\n",
      "3                    SVC(C=1, gamma=0.1)  0.824291  0.809875  0.819908\n",
      "4     SVC(C=1, gamma=0.1, kernel='poly')  0.811490  0.810499  0.833168\n",
      "5  SVC(C=1, gamma=0.1, kernel='sigmoid')  0.772637  0.772437  0.753377\n",
      "\n"
     ]
    }
   ],
   "source": [
    "for model in all_svm: \n",
    "    scores = cross_validate(model, X_train, y_train, scoring=metrics, cv=kfold, n_jobs=-1)\n",
    "    \n",
    "    results = results.append({\n",
    "    'Model': model,\n",
    "    'Accuracy': mean(scores['test_accuracy']),\n",
    "    'F1': mean(scores['test_f1_weighted']),\n",
    "    'ROC AUC': mean(scores['test_roc_auc'])},\n",
    "    ignore_index=True)\n",
    "    \n",
    "    print(str(model))\n",
    "    print('F1 score: ', mean(scores['test_roc_auc']))\n",
    "    print('-----------------------------------------------------------------------------')\n",
    "    print(results)\n",
    "    print()"
   ]
  },
  {
   "cell_type": "markdown",
   "id": "0f20d74f",
   "metadata": {},
   "source": [
    "# 5 Summary of Performance\n",
    "Since the dataset is imbalanced, comparing the performances of models using accuracy may be misleading. Hence, F1-score and Area Under The Curve Receiver Operating Characteristics (AUC ROC)."
   ]
  },
  {
   "cell_type": "code",
   "execution_count": 31,
   "id": "2697f2ff",
   "metadata": {
    "scrolled": true
   },
   "outputs": [
    {
     "data": {
      "text/html": [
       "<div>\n",
       "<style scoped>\n",
       "    .dataframe tbody tr th:only-of-type {\n",
       "        vertical-align: middle;\n",
       "    }\n",
       "\n",
       "    .dataframe tbody tr th {\n",
       "        vertical-align: top;\n",
       "    }\n",
       "\n",
       "    .dataframe thead th {\n",
       "        text-align: right;\n",
       "    }\n",
       "</style>\n",
       "<table border=\"1\" class=\"dataframe\">\n",
       "  <thead>\n",
       "    <tr style=\"text-align: right;\">\n",
       "      <th></th>\n",
       "      <th>Model</th>\n",
       "      <th>Accuracy</th>\n",
       "      <th>F1</th>\n",
       "      <th>ROC AUC</th>\n",
       "    </tr>\n",
       "  </thead>\n",
       "  <tbody>\n",
       "    <tr>\n",
       "      <th>0</th>\n",
       "      <td>LogisticRegression()</td>\n",
       "      <td>0.851286</td>\n",
       "      <td>0.845942</td>\n",
       "      <td>0.906375</td>\n",
       "    </tr>\n",
       "    <tr>\n",
       "      <th>1</th>\n",
       "      <td>AdaBoostClassifier()</td>\n",
       "      <td>0.869433</td>\n",
       "      <td>0.865149</td>\n",
       "      <td>0.924444</td>\n",
       "    </tr>\n",
       "    <tr>\n",
       "      <th>2</th>\n",
       "      <td>SVC(C=1, gamma=0.1, kernel='linear')</td>\n",
       "      <td>0.850759</td>\n",
       "      <td>0.844116</td>\n",
       "      <td>0.903897</td>\n",
       "    </tr>\n",
       "    <tr>\n",
       "      <th>3</th>\n",
       "      <td>SVC(C=1, gamma=0.1)</td>\n",
       "      <td>0.824291</td>\n",
       "      <td>0.809875</td>\n",
       "      <td>0.819908</td>\n",
       "    </tr>\n",
       "    <tr>\n",
       "      <th>4</th>\n",
       "      <td>SVC(C=1, gamma=0.1, kernel='poly')</td>\n",
       "      <td>0.811490</td>\n",
       "      <td>0.810499</td>\n",
       "      <td>0.833168</td>\n",
       "    </tr>\n",
       "    <tr>\n",
       "      <th>5</th>\n",
       "      <td>SVC(C=1, gamma=0.1, kernel='sigmoid')</td>\n",
       "      <td>0.772637</td>\n",
       "      <td>0.772437</td>\n",
       "      <td>0.753377</td>\n",
       "    </tr>\n",
       "  </tbody>\n",
       "</table>\n",
       "</div>"
      ],
      "text/plain": [
       "                                   Model  Accuracy        F1   ROC AUC\n",
       "0                   LogisticRegression()  0.851286  0.845942  0.906375\n",
       "1                   AdaBoostClassifier()  0.869433  0.865149  0.924444\n",
       "2   SVC(C=1, gamma=0.1, kernel='linear')  0.850759  0.844116  0.903897\n",
       "3                    SVC(C=1, gamma=0.1)  0.824291  0.809875  0.819908\n",
       "4     SVC(C=1, gamma=0.1, kernel='poly')  0.811490  0.810499  0.833168\n",
       "5  SVC(C=1, gamma=0.1, kernel='sigmoid')  0.772637  0.772437  0.753377"
      ]
     },
     "execution_count": 31,
     "metadata": {},
     "output_type": "execute_result"
    }
   ],
   "source": [
    "results"
   ]
  },
  {
   "cell_type": "markdown",
   "id": "6975f2fb",
   "metadata": {},
   "source": [
    "As can be seen from the summary above, the Adaboost algorithm performed the best in terms of F1-score (86.5%) and ROC AUC (92.4%). Hence, Adaboost will be used to make predictions on test dataset."
   ]
  },
  {
   "cell_type": "markdown",
   "id": "52ad5166",
   "metadata": {},
   "source": [
    "# 6 Run Adaboost on test dataset"
   ]
  },
  {
   "cell_type": "markdown",
   "id": "e17554e6",
   "metadata": {},
   "source": [
    "### 6.1 Use best adaboost model to predict y"
   ]
  },
  {
   "cell_type": "code",
   "execution_count": 32,
   "id": "fb6412f3",
   "metadata": {},
   "outputs": [],
   "source": [
    "final_model = model_adaboost.best_estimator_"
   ]
  },
  {
   "cell_type": "code",
   "execution_count": 33,
   "id": "4a83e028",
   "metadata": {},
   "outputs": [],
   "source": [
    "predictions = final_model.predict(X_test)"
   ]
  },
  {
   "cell_type": "code",
   "execution_count": 34,
   "id": "f19f9a96",
   "metadata": {},
   "outputs": [],
   "source": [
    "df_test['y'] = predictions"
   ]
  },
  {
   "cell_type": "markdown",
   "id": "5d01e65d",
   "metadata": {},
   "source": [
    "### 6.2 Check output"
   ]
  },
  {
   "cell_type": "code",
   "execution_count": 35,
   "id": "0ff3f1e3",
   "metadata": {
    "scrolled": true
   },
   "outputs": [
    {
     "data": {
      "text/html": [
       "<div>\n",
       "<style scoped>\n",
       "    .dataframe tbody tr th:only-of-type {\n",
       "        vertical-align: middle;\n",
       "    }\n",
       "\n",
       "    .dataframe tbody tr th {\n",
       "        vertical-align: top;\n",
       "    }\n",
       "\n",
       "    .dataframe thead th {\n",
       "        text-align: right;\n",
       "    }\n",
       "</style>\n",
       "<table border=\"1\" class=\"dataframe\">\n",
       "  <thead>\n",
       "    <tr style=\"text-align: right;\">\n",
       "      <th></th>\n",
       "      <th>index</th>\n",
       "      <th>age</th>\n",
       "      <th>race</th>\n",
       "      <th>sex</th>\n",
       "      <th>education</th>\n",
       "      <th>f1</th>\n",
       "      <th>f2</th>\n",
       "      <th>f3</th>\n",
       "      <th>f4</th>\n",
       "      <th>f5</th>\n",
       "      <th>f6</th>\n",
       "      <th>f7</th>\n",
       "      <th>f8</th>\n",
       "      <th>f9</th>\n",
       "      <th>f10</th>\n",
       "      <th>y</th>\n",
       "    </tr>\n",
       "  </thead>\n",
       "  <tbody>\n",
       "    <tr>\n",
       "      <th>0</th>\n",
       "      <td>1</td>\n",
       "      <td>39</td>\n",
       "      <td>White</td>\n",
       "      <td>Male</td>\n",
       "      <td>HS-grad</td>\n",
       "      <td>a_2</td>\n",
       "      <td>b_3</td>\n",
       "      <td>c_0</td>\n",
       "      <td>d_39</td>\n",
       "      <td>e_4</td>\n",
       "      <td>366757</td>\n",
       "      <td>9</td>\n",
       "      <td>0</td>\n",
       "      <td>0</td>\n",
       "      <td>35</td>\n",
       "      <td>0</td>\n",
       "    </tr>\n",
       "    <tr>\n",
       "      <th>1</th>\n",
       "      <td>2</td>\n",
       "      <td>56</td>\n",
       "      <td>White</td>\n",
       "      <td>Male</td>\n",
       "      <td>Some-college</td>\n",
       "      <td>a_2</td>\n",
       "      <td>b_0</td>\n",
       "      <td>c_0</td>\n",
       "      <td>d_27</td>\n",
       "      <td>e_0</td>\n",
       "      <td>275943</td>\n",
       "      <td>10</td>\n",
       "      <td>0</td>\n",
       "      <td>0</td>\n",
       "      <td>40</td>\n",
       "      <td>0</td>\n",
       "    </tr>\n",
       "    <tr>\n",
       "      <th>2</th>\n",
       "      <td>3</td>\n",
       "      <td>17</td>\n",
       "      <td>White</td>\n",
       "      <td>Male</td>\n",
       "      <td>12th</td>\n",
       "      <td>a_4</td>\n",
       "      <td>b_0</td>\n",
       "      <td>c_3</td>\n",
       "      <td>d_39</td>\n",
       "      <td>e_0</td>\n",
       "      <td>103810</td>\n",
       "      <td>8</td>\n",
       "      <td>0</td>\n",
       "      <td>0</td>\n",
       "      <td>40</td>\n",
       "      <td>0</td>\n",
       "    </tr>\n",
       "  </tbody>\n",
       "</table>\n",
       "</div>"
      ],
      "text/plain": [
       "   index  age    race    sex      education   f1   f2   f3    f4   f5      f6  \\\n",
       "0      1   39   White   Male        HS-grad  a_2  b_3  c_0  d_39  e_4  366757   \n",
       "1      2   56   White   Male   Some-college  a_2  b_0  c_0  d_27  e_0  275943   \n",
       "2      3   17   White   Male           12th  a_4  b_0  c_3  d_39  e_0  103810   \n",
       "\n",
       "   f7  f8  f9  f10  y  \n",
       "0   9   0   0   35  0  \n",
       "1  10   0   0   40  0  \n",
       "2   8   0   0   40  0  "
      ]
     },
     "execution_count": 35,
     "metadata": {},
     "output_type": "execute_result"
    }
   ],
   "source": [
    "df_test.head(3)"
   ]
  },
  {
   "cell_type": "code",
   "execution_count": 36,
   "id": "6ed1a87f",
   "metadata": {},
   "outputs": [
    {
     "data": {
      "text/plain": [
       "Counter({0: 4835, 1: 1165})"
      ]
     },
     "execution_count": 36,
     "metadata": {},
     "output_type": "execute_result"
    }
   ],
   "source": [
    "Counter(df_test['y'])"
   ]
  },
  {
   "cell_type": "code",
   "execution_count": 37,
   "id": "243a52cb",
   "metadata": {},
   "outputs": [
    {
     "name": "stdout",
     "output_type": "stream",
     "text": [
      "Ratio of df_test['y']=0 to df_test['y']=1: 4.15\n"
     ]
    }
   ],
   "source": [
    "ratio = len(df_test[df_test['y'] == 0]) / len(df_test[df_test['y'] == 1])\n",
    "print('Ratio of df_test[\\'y\\']=0 to df_test[\\'y\\']=1: %.2f' % (ratio))"
   ]
  },
  {
   "cell_type": "markdown",
   "id": "09609e14",
   "metadata": {},
   "source": [
    "### 6.3 Export results to .csv"
   ]
  },
  {
   "cell_type": "code",
   "execution_count": 38,
   "id": "a52676a8",
   "metadata": {},
   "outputs": [],
   "source": [
    "df_test.to_csv(\"A1_A0203989N.csv\", index=False)"
   ]
  }
 ],
 "metadata": {
  "kernelspec": {
   "display_name": "Python 3",
   "language": "python",
   "name": "python3"
  },
  "language_info": {
   "codemirror_mode": {
    "name": "ipython",
    "version": 3
   },
   "file_extension": ".py",
   "mimetype": "text/x-python",
   "name": "python",
   "nbconvert_exporter": "python",
   "pygments_lexer": "ipython3",
   "version": "3.8.5"
  }
 },
 "nbformat": 4,
 "nbformat_minor": 5
}
